{
 "cells": [
  {
   "cell_type": "markdown",
   "id": "d20e44d0",
   "metadata": {},
   "source": [
    "# Objective"
   ]
  },
  {
   "cell_type": "markdown",
   "id": "4d6b41a7",
   "metadata": {},
   "source": [
    "The objective of running this code is to obtain an approximation of the definite integral of the function \n",
    "𝑥\n",
    "2\n",
    "x \n",
    "2\n",
    "  over the interval \n",
    "[\n",
    "200\n",
    ",\n",
    "300\n",
    "]\n",
    "[200,300] using the midpoint rule with a specific number of subintervals.This code computes an approxiamtion of the definite integral of \n",
    "the function f(x)=x^2 over a specifies interval using the midpoint\n",
    "rule. The result is printed to the console."
   ]
  },
  {
   "cell_type": "markdown",
   "id": "3ed5aad7",
   "metadata": {},
   "source": [
    "#"
   ]
  },
  {
   "cell_type": "code",
   "execution_count": 2,
   "id": "2393613f",
   "metadata": {},
   "outputs": [
    {
     "name": "stdout",
     "output_type": "stream",
     "text": [
      "Approximated value of the integral: 6333325.0\n"
     ]
    }
   ],
   "source": [
    "def f(x):\n",
    "    return x**2\n",
    "\n",
    "def midpoint_rule(a, b, n):\n",
    "    h = (b - a) / n\n",
    "    integral_sum = 0\n",
    "    \n",
    "    for i in range(n):\n",
    "        midpoint = a + (i + 0.5) * h\n",
    "        \n",
    "        integral_sum += f(midpoint) * h\n",
    "    \n",
    "    return integral_sum\n",
    "\n",
    "a = 200\n",
    "b = 300\n",
    "n = 100\n",
    "\n",
    "approx_integral = midpoint_rule(a, b, n)\n",
    "print(\"Approximated value of the integral:\", approx_integral)"
   ]
  },
  {
   "cell_type": "markdown",
   "id": "c26593d8",
   "metadata": {},
   "source": [
    "# Conclusion"
   ]
  },
  {
   "cell_type": "markdown",
   "id": "1a2ca232",
   "metadata": {},
   "source": [
    "The midpoint rule provides a simple yet effective method for approximating definite integrals numerically. The Python implementation presented in this report offers a practical tool for calculating integral values, particularly when analytic solutions are not readily available."
   ]
  }
 ],
 "metadata": {
  "kernelspec": {
   "display_name": "Python 3 (ipykernel)",
   "language": "python",
   "name": "python3"
  },
  "language_info": {
   "codemirror_mode": {
    "name": "ipython",
    "version": 3
   },
   "file_extension": ".py",
   "mimetype": "text/x-python",
   "name": "python",
   "nbconvert_exporter": "python",
   "pygments_lexer": "ipython3",
   "version": "3.11.4"
  }
 },
 "nbformat": 4,
 "nbformat_minor": 5
}
